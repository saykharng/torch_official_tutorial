{
  "nbformat": 4,
  "nbformat_minor": 0,
  "metadata": {
    "colab": {
      "provenance": []
    },
    "kernelspec": {
      "name": "python3",
      "display_name": "Python 3"
    },
    "language_info": {
      "name": "python"
    }
  },
  "cells": [
    {
      "cell_type": "code",
      "execution_count": 3,
      "metadata": {
        "id": "gMo0oJmT1tky"
      },
      "outputs": [],
      "source": [
        "# Tensors are specialized data strucutre that are very similar to arrays and martricies. In PyTorch, we use tensors to encode the inputs and outputs of a model, as well as the model's paramters."
      ]
    },
    {
      "cell_type": "code",
      "source": [
        "import torch\n",
        "import numpy as np"
      ],
      "metadata": {
        "id": "yOXcQhX42KW9"
      },
      "execution_count": 4,
      "outputs": []
    },
    {
      "cell_type": "code",
      "source": [
        "data = [[1, 2], [3,4]]\n",
        "\n",
        "x_data = torch.tensor(data)\n",
        "\n",
        "print(type(data))\n",
        "print(x_data)\n",
        "x_data.shape"
      ],
      "metadata": {
        "colab": {
          "base_uri": "https://localhost:8080/"
        },
        "id": "_9JyiSKx2Q0w",
        "outputId": "2d9a0b2b-2989-4f39-807f-a75aca63f83a"
      },
      "execution_count": 5,
      "outputs": [
        {
          "output_type": "stream",
          "name": "stdout",
          "text": [
            "<class 'list'>\n",
            "tensor([[1, 2],\n",
            "        [3, 4]])\n"
          ]
        },
        {
          "output_type": "execute_result",
          "data": {
            "text/plain": [
              "torch.Size([2, 2])"
            ]
          },
          "metadata": {},
          "execution_count": 5
        }
      ]
    },
    {
      "cell_type": "code",
      "source": [
        "np_array = np.array(data)\n",
        "print(type(np_array))\n",
        "x_np = torch.from_numpy(np_array)\n",
        "print(type(x_np))"
      ],
      "metadata": {
        "colab": {
          "base_uri": "https://localhost:8080/"
        },
        "id": "zj2O_hLg2XRv",
        "outputId": "4bbc6242-757b-4522-b205-9b0f04417cce"
      },
      "execution_count": 6,
      "outputs": [
        {
          "output_type": "stream",
          "name": "stdout",
          "text": [
            "<class 'numpy.ndarray'>\n",
            "<class 'torch.Tensor'>\n"
          ]
        }
      ]
    },
    {
      "cell_type": "code",
      "source": [
        "x_ones = torch.ones_like(x_data)\n",
        "print(x_ones)"
      ],
      "metadata": {
        "colab": {
          "base_uri": "https://localhost:8080/"
        },
        "id": "gyGy9MD0L7G0",
        "outputId": "2354c372-2e37-43b5-e985-cd659d1bf172"
      },
      "execution_count": 7,
      "outputs": [
        {
          "output_type": "stream",
          "name": "stdout",
          "text": [
            "tensor([[1, 1],\n",
            "        [1, 1]])\n"
          ]
        }
      ]
    },
    {
      "cell_type": "code",
      "source": [
        "x_rand = torch.rand_like(x_data, dtype=torch.float)\n",
        "print(f\"Random Tensor: \\n {x_rand} \\n\")"
      ],
      "metadata": {
        "colab": {
          "base_uri": "https://localhost:8080/"
        },
        "id": "D6PzY-5oMpo0",
        "outputId": "440bc719-9a2d-4966-ab82-e0b1f0a85664"
      },
      "execution_count": 8,
      "outputs": [
        {
          "output_type": "stream",
          "name": "stdout",
          "text": [
            "Random Tensor: \n",
            " tensor([[0.3295, 0.8924],\n",
            "        [0.3531, 0.5356]]) \n",
            "\n"
          ]
        }
      ]
    },
    {
      "cell_type": "code",
      "source": [
        "x_data"
      ],
      "metadata": {
        "colab": {
          "base_uri": "https://localhost:8080/"
        },
        "id": "j3ZX7p0XMyjL",
        "outputId": "7037b0f1-acc2-465a-9e8f-4e23718bd814"
      },
      "execution_count": 9,
      "outputs": [
        {
          "output_type": "execute_result",
          "data": {
            "text/plain": [
              "tensor([[1, 2],\n",
              "        [3, 4]])"
            ]
          },
          "metadata": {},
          "execution_count": 9
        }
      ]
    },
    {
      "cell_type": "code",
      "source": [
        "x_data.dtype"
      ],
      "metadata": {
        "colab": {
          "base_uri": "https://localhost:8080/"
        },
        "id": "4nwU_uqjPAT1",
        "outputId": "a874bee6-4b51-4371-b95d-d3e4ed28f873"
      },
      "execution_count": 10,
      "outputs": [
        {
          "output_type": "execute_result",
          "data": {
            "text/plain": [
              "torch.int64"
            ]
          },
          "metadata": {},
          "execution_count": 10
        }
      ]
    },
    {
      "cell_type": "code",
      "source": [
        "x_rand.dtype"
      ],
      "metadata": {
        "colab": {
          "base_uri": "https://localhost:8080/"
        },
        "id": "MdVI0-sRPEyc",
        "outputId": "805dee86-2d6f-4e37-e88b-d24a34196a90"
      },
      "execution_count": 11,
      "outputs": [
        {
          "output_type": "execute_result",
          "data": {
            "text/plain": [
              "torch.float32"
            ]
          },
          "metadata": {},
          "execution_count": 11
        }
      ]
    },
    {
      "cell_type": "code",
      "source": [
        "shape = (2, 3)"
      ],
      "metadata": {
        "id": "C_t4AoFmPGkE"
      },
      "execution_count": 12,
      "outputs": []
    },
    {
      "cell_type": "code",
      "source": [
        "rand_tensor = torch.rand(shape)\n",
        "print(rand_tensor)"
      ],
      "metadata": {
        "colab": {
          "base_uri": "https://localhost:8080/"
        },
        "id": "obcp7vGoPQP1",
        "outputId": "7deb47dc-3ae4-4d17-c70b-66ba42ccb05f"
      },
      "execution_count": 13,
      "outputs": [
        {
          "output_type": "stream",
          "name": "stdout",
          "text": [
            "tensor([[0.2698, 0.9877, 0.8297],\n",
            "        [0.0685, 0.0672, 0.1730]])\n"
          ]
        }
      ]
    },
    {
      "cell_type": "code",
      "source": [
        "ones_tensor = torch.ones(shape)\n",
        "print(ones_tensor)"
      ],
      "metadata": {
        "colab": {
          "base_uri": "https://localhost:8080/"
        },
        "id": "Gy-XfLZlPSRl",
        "outputId": "fd245795-7653-4c9e-d7e3-709c7b2bdcfb"
      },
      "execution_count": 14,
      "outputs": [
        {
          "output_type": "stream",
          "name": "stdout",
          "text": [
            "tensor([[1., 1., 1.],\n",
            "        [1., 1., 1.]])\n"
          ]
        }
      ]
    },
    {
      "cell_type": "code",
      "source": [
        "zeros_tensor = torch.zeros(shape)"
      ],
      "metadata": {
        "id": "95yUc_B8PX-b"
      },
      "execution_count": 15,
      "outputs": []
    },
    {
      "cell_type": "code",
      "source": [
        "tensor = torch.rand(3,4)"
      ],
      "metadata": {
        "id": "aI6UeEAJPa2H"
      },
      "execution_count": 16,
      "outputs": []
    },
    {
      "cell_type": "code",
      "source": [
        "print(f\"Shape of tensor: {tensor.shape}\")\n",
        "print(f\"Datatype of tensor: {tensor.dtype}\")\n",
        "print(f\"Device tensor is stored on: {tensor.device}\")"
      ],
      "metadata": {
        "colab": {
          "base_uri": "https://localhost:8080/"
        },
        "id": "60bvib7BPlon",
        "outputId": "d79f6bc1-64d1-4122-c7cf-3e920d4acaa6"
      },
      "execution_count": 17,
      "outputs": [
        {
          "output_type": "stream",
          "name": "stdout",
          "text": [
            "Shape of tensor: torch.Size([3, 4])\n",
            "Datatype of tensor: torch.float32\n",
            "Device tensor is stored on: cpu\n"
          ]
        }
      ]
    },
    {
      "cell_type": "code",
      "source": [
        "#  Operations on Tensors"
      ],
      "metadata": {
        "id": "fJm-HFWdPyHu"
      },
      "execution_count": 18,
      "outputs": []
    },
    {
      "cell_type": "code",
      "source": [
        "if torch.cuda.is_available():\n",
        "  tensor = tensor.to(\"cuda\")\n"
      ],
      "metadata": {
        "id": "H5NAY9NKTtjV"
      },
      "execution_count": 19,
      "outputs": []
    },
    {
      "cell_type": "code",
      "source": [
        "# Tensor indexing\n",
        "\n",
        "tensor = torch.rand(4, 4)\n",
        "print(tensor)\n",
        "print(f\"First row: {tensor[0]}\")\n",
        "print(f\"First column: {tensor[:, 0]}\")\n",
        "print(f\"Last column: {tensor[..., -1]}\")\n",
        "tensor[:,1]=0"
      ],
      "metadata": {
        "colab": {
          "base_uri": "https://localhost:8080/"
        },
        "id": "_hGMMPlxEspx",
        "outputId": "eb76e9a6-c520-49a1-ac3b-ef3ee97eb570"
      },
      "execution_count": 20,
      "outputs": [
        {
          "output_type": "stream",
          "name": "stdout",
          "text": [
            "tensor([[0.9686, 0.0160, 0.5350, 0.4319],\n",
            "        [0.6936, 0.2767, 0.4436, 0.4193],\n",
            "        [0.9852, 0.0030, 0.2918, 0.1317],\n",
            "        [0.0564, 0.6392, 0.2359, 0.7945]])\n",
            "First row: tensor([0.9686, 0.0160, 0.5350, 0.4319])\n",
            "First column: tensor([0.9686, 0.6936, 0.9852, 0.0564])\n",
            "Last column: tensor([0.4319, 0.4193, 0.1317, 0.7945])\n"
          ]
        }
      ]
    },
    {
      "cell_type": "code",
      "source": [
        "print(tensor)"
      ],
      "metadata": {
        "colab": {
          "base_uri": "https://localhost:8080/"
        },
        "id": "khxD31StIvVW",
        "outputId": "ed89b045-203a-43c3-9659-47f0f0315720"
      },
      "execution_count": 21,
      "outputs": [
        {
          "output_type": "stream",
          "name": "stdout",
          "text": [
            "tensor([[0.9686, 0.0000, 0.5350, 0.4319],\n",
            "        [0.6936, 0.0000, 0.4436, 0.4193],\n",
            "        [0.9852, 0.0000, 0.2918, 0.1317],\n",
            "        [0.0564, 0.0000, 0.2359, 0.7945]])\n"
          ]
        }
      ]
    },
    {
      "cell_type": "code",
      "source": [
        "# Joining Tensors\n",
        "\n",
        "print(tensor)\n",
        "\n",
        "t1 = torch.cat([tensor, tensor, tensor], dim=1)\n",
        "print(t1)"
      ],
      "metadata": {
        "colab": {
          "base_uri": "https://localhost:8080/"
        },
        "id": "3Gh0jHCLE6ff",
        "outputId": "eed9dd94-7163-4059-d530-68f8af6ccc93"
      },
      "execution_count": 22,
      "outputs": [
        {
          "output_type": "stream",
          "name": "stdout",
          "text": [
            "tensor([[0.9686, 0.0000, 0.5350, 0.4319],\n",
            "        [0.6936, 0.0000, 0.4436, 0.4193],\n",
            "        [0.9852, 0.0000, 0.2918, 0.1317],\n",
            "        [0.0564, 0.0000, 0.2359, 0.7945]])\n",
            "tensor([[0.9686, 0.0000, 0.5350, 0.4319, 0.9686, 0.0000, 0.5350, 0.4319, 0.9686,\n",
            "         0.0000, 0.5350, 0.4319],\n",
            "        [0.6936, 0.0000, 0.4436, 0.4193, 0.6936, 0.0000, 0.4436, 0.4193, 0.6936,\n",
            "         0.0000, 0.4436, 0.4193],\n",
            "        [0.9852, 0.0000, 0.2918, 0.1317, 0.9852, 0.0000, 0.2918, 0.1317, 0.9852,\n",
            "         0.0000, 0.2918, 0.1317],\n",
            "        [0.0564, 0.0000, 0.2359, 0.7945, 0.0564, 0.0000, 0.2359, 0.7945, 0.0564,\n",
            "         0.0000, 0.2359, 0.7945]])\n"
          ]
        }
      ]
    },
    {
      "cell_type": "code",
      "source": [
        "a = torch.rand(1,3)\n",
        "b = torch.rand(1,2)\n"
      ],
      "metadata": {
        "id": "mHonN_A8L-Pp"
      },
      "execution_count": 25,
      "outputs": []
    },
    {
      "cell_type": "code",
      "source": [
        "# Airthmetic Operations"
      ],
      "metadata": {
        "id": "ufynY7etKBHm"
      },
      "execution_count": 26,
      "outputs": []
    },
    {
      "cell_type": "code",
      "source": [
        "tensor"
      ],
      "metadata": {
        "colab": {
          "base_uri": "https://localhost:8080/"
        },
        "id": "6RJxnK2teo6z",
        "outputId": "a0c55d4a-60c3-4fcc-a1a1-560fa036b4e5"
      },
      "execution_count": 27,
      "outputs": [
        {
          "output_type": "execute_result",
          "data": {
            "text/plain": [
              "tensor([[0.9686, 0.0000, 0.5350, 0.4319],\n",
              "        [0.6936, 0.0000, 0.4436, 0.4193],\n",
              "        [0.9852, 0.0000, 0.2918, 0.1317],\n",
              "        [0.0564, 0.0000, 0.2359, 0.7945]])"
            ]
          },
          "metadata": {},
          "execution_count": 27
        }
      ]
    },
    {
      "cell_type": "code",
      "source": [
        "tensor.T"
      ],
      "metadata": {
        "colab": {
          "base_uri": "https://localhost:8080/"
        },
        "id": "E0KaEl7je7u1",
        "outputId": "861b9cd6-0a17-448f-a1f1-2a446da03560"
      },
      "execution_count": 28,
      "outputs": [
        {
          "output_type": "execute_result",
          "data": {
            "text/plain": [
              "tensor([[0.9686, 0.6936, 0.9852, 0.0564],\n",
              "        [0.0000, 0.0000, 0.0000, 0.0000],\n",
              "        [0.5350, 0.4436, 0.2918, 0.2359],\n",
              "        [0.4319, 0.4193, 0.1317, 0.7945]])"
            ]
          },
          "metadata": {},
          "execution_count": 28
        }
      ]
    },
    {
      "cell_type": "code",
      "source": [
        "y1 = tensor @ tensor.T\n",
        "print(y1)"
      ],
      "metadata": {
        "id": "WUO99GiMRmQv",
        "colab": {
          "base_uri": "https://localhost:8080/"
        },
        "outputId": "339e3529-506a-46b6-ada7-20376fade2d7"
      },
      "execution_count": 30,
      "outputs": [
        {
          "output_type": "stream",
          "name": "stdout",
          "text": [
            "tensor([[1.4110, 1.0902, 1.1672, 0.5240],\n",
            "        [1.0902, 0.8536, 0.8680, 0.4769],\n",
            "        [1.1672, 0.8680, 1.0730, 0.2291],\n",
            "        [0.5240, 0.4769, 0.2291, 0.6900]])\n"
          ]
        }
      ]
    },
    {
      "cell_type": "code",
      "source": [
        "y2 = tensor.matmul(tensor.T)"
      ],
      "metadata": {
        "id": "GPyNkzRtRvR4"
      },
      "execution_count": 31,
      "outputs": []
    },
    {
      "cell_type": "code",
      "source": [
        "y3 = torch.rand_like(y1)\n",
        "torch.matmul(tensor, tensor.T, out=y3)"
      ],
      "metadata": {
        "colab": {
          "base_uri": "https://localhost:8080/"
        },
        "id": "12n5gQqnRxyf",
        "outputId": "ce1a7d89-660e-4fd7-e520-c9147227a33d"
      },
      "execution_count": 32,
      "outputs": [
        {
          "output_type": "execute_result",
          "data": {
            "text/plain": [
              "tensor([[1.4110, 1.0902, 1.1672, 0.5240],\n",
              "        [1.0902, 0.8536, 0.8680, 0.4769],\n",
              "        [1.1672, 0.8680, 1.0730, 0.2291],\n",
              "        [0.5240, 0.4769, 0.2291, 0.6900]])"
            ]
          },
          "metadata": {},
          "execution_count": 32
        }
      ]
    },
    {
      "cell_type": "code",
      "source": [
        "z1 = tensor * tensor\n",
        "z2 = tensor.mul(tensor)\n",
        "\n",
        "z3 = torch.rand_like(tensor)\n",
        "torch.mul(tensor, tensor, out=z3)"
      ],
      "metadata": {
        "colab": {
          "base_uri": "https://localhost:8080/"
        },
        "id": "d43saOOuR3Tp",
        "outputId": "daa4a842-95d3-4652-af0e-0f3533920026"
      },
      "execution_count": 33,
      "outputs": [
        {
          "output_type": "execute_result",
          "data": {
            "text/plain": [
              "tensor([[0.9383, 0.0000, 0.2862, 0.1865],\n",
              "        [0.4811, 0.0000, 0.1967, 0.1758],\n",
              "        [0.9705, 0.0000, 0.0851, 0.0173],\n",
              "        [0.0032, 0.0000, 0.0557, 0.6312]])"
            ]
          },
          "metadata": {},
          "execution_count": 33
        }
      ]
    },
    {
      "cell_type": "code",
      "source": [
        "# Single element tensors\n",
        "\n",
        "agg = tensor.sum()\n",
        "agg_item = agg.item()\n",
        "print(agg_item, type(agg_item))"
      ],
      "metadata": {
        "id": "dZg9at_GSf65"
      },
      "execution_count": null,
      "outputs": []
    },
    {
      "cell_type": "code",
      "source": [
        "t1 = torch.tensor([[2,3],[4,5]])"
      ],
      "metadata": {
        "id": "ki0poWo2gsM-"
      },
      "execution_count": 34,
      "outputs": []
    },
    {
      "cell_type": "code",
      "source": [
        "t2 = torch.tensor([[1,2], [3,3]])"
      ],
      "metadata": {
        "id": "MxwqGD1ug0VD"
      },
      "execution_count": 36,
      "outputs": []
    },
    {
      "cell_type": "code",
      "source": [
        "sum = t1.sum()"
      ],
      "metadata": {
        "id": "Ak6Z5qHohJrs"
      },
      "execution_count": 38,
      "outputs": []
    },
    {
      "cell_type": "code",
      "source": [
        "print(sum)\n",
        "sum.item()"
      ],
      "metadata": {
        "colab": {
          "base_uri": "https://localhost:8080/"
        },
        "id": "hqRyGfGkhagS",
        "outputId": "52bac183-2398-4fba-b31b-6e1dbb3eab0a"
      },
      "execution_count": 40,
      "outputs": [
        {
          "output_type": "stream",
          "name": "stdout",
          "text": [
            "tensor(14)\n"
          ]
        },
        {
          "output_type": "execute_result",
          "data": {
            "text/plain": [
              "14"
            ]
          },
          "metadata": {},
          "execution_count": 40
        }
      ]
    },
    {
      "cell_type": "code",
      "source": [
        "2 * 2"
      ],
      "metadata": {
        "colab": {
          "base_uri": "https://localhost:8080/"
        },
        "id": "Zh4YvRNXhliY",
        "outputId": "59a1af78-3f28-475e-81ef-c74b9fb8525e"
      },
      "execution_count": 41,
      "outputs": [
        {
          "output_type": "execute_result",
          "data": {
            "text/plain": [
              "4"
            ]
          },
          "metadata": {},
          "execution_count": 41
        }
      ]
    },
    {
      "cell_type": "code",
      "source": [
        "print(type(tensor))\n",
        "print(type(tensor.numpy()))"
      ],
      "metadata": {
        "colab": {
          "base_uri": "https://localhost:8080/"
        },
        "id": "c6koi09Bi167",
        "outputId": "57823acb-4316-47e3-b75b-d4d2886c0043"
      },
      "execution_count": 46,
      "outputs": [
        {
          "output_type": "stream",
          "name": "stdout",
          "text": [
            "<class 'torch.Tensor'>\n",
            "<class 'numpy.ndarray'>\n"
          ]
        }
      ]
    },
    {
      "cell_type": "code",
      "source": [
        "a = tensor.numpy()"
      ],
      "metadata": {
        "id": "-C-NqlC3jQES"
      },
      "execution_count": 47,
      "outputs": []
    },
    {
      "cell_type": "code",
      "source": [
        "print(tensor)\n",
        "print(a)"
      ],
      "metadata": {
        "colab": {
          "base_uri": "https://localhost:8080/"
        },
        "id": "qfH6g4ghjThT",
        "outputId": "68668086-6b6f-4216-909a-7baba57ae40a"
      },
      "execution_count": 50,
      "outputs": [
        {
          "output_type": "stream",
          "name": "stdout",
          "text": [
            "tensor([[1.9686, 1.0000, 1.5350, 1.4319],\n",
            "        [1.6936, 1.0000, 1.4436, 1.4193],\n",
            "        [1.9852, 1.0000, 1.2918, 1.1317],\n",
            "        [1.0564, 1.0000, 1.2359, 1.7945]])\n",
            "[[1.9686334 1.        1.5349867 1.4318606]\n",
            " [1.6936018 1.        1.4435624 1.4192946]\n",
            " [1.9851612 1.        1.2917788 1.1317018]\n",
            " [1.0564178 1.        1.2359276 1.7944653]]\n"
          ]
        }
      ]
    },
    {
      "cell_type": "code",
      "source": [
        "tensor.add_(1)"
      ],
      "metadata": {
        "colab": {
          "base_uri": "https://localhost:8080/"
        },
        "id": "199QMGkjjX7r",
        "outputId": "bc612949-6dd2-475e-bf75-8bf5b3e18b4e"
      },
      "execution_count": 49,
      "outputs": [
        {
          "output_type": "execute_result",
          "data": {
            "text/plain": [
              "tensor([[1.9686, 1.0000, 1.5350, 1.4319],\n",
              "        [1.6936, 1.0000, 1.4436, 1.4193],\n",
              "        [1.9852, 1.0000, 1.2918, 1.1317],\n",
              "        [1.0564, 1.0000, 1.2359, 1.7945]])"
            ]
          },
          "metadata": {},
          "execution_count": 49
        }
      ]
    },
    {
      "cell_type": "code",
      "source": [
        "a = 2\n",
        "b = 3\n",
        "a * b\n",
        "c = a * b"
      ],
      "metadata": {
        "id": "B2JfO0ebhoLd"
      },
      "execution_count": 43,
      "outputs": []
    },
    {
      "cell_type": "code",
      "source": [
        "print(t1)\n",
        "print(t2)\n",
        "print(t1*t2)"
      ],
      "metadata": {
        "colab": {
          "base_uri": "https://localhost:8080/"
        },
        "id": "L3CS5lODg9Yx",
        "outputId": "b6409b0f-7033-4ab6-b72c-082e80a7b06f"
      },
      "execution_count": 37,
      "outputs": [
        {
          "output_type": "stream",
          "name": "stdout",
          "text": [
            "tensor([[2, 3],\n",
            "        [4, 5]])\n",
            "tensor([[1, 2],\n",
            "        [3, 3]])\n",
            "tensor([[ 2,  6],\n",
            "        [12, 15]])\n"
          ]
        }
      ]
    },
    {
      "cell_type": "code",
      "source": [
        "# In place operations"
      ],
      "metadata": {
        "id": "fc7TxgjHSwI5"
      },
      "execution_count": null,
      "outputs": []
    },
    {
      "cell_type": "code",
      "source": [
        "print(f\"{tensor} \\n\")\n",
        "tensor.add_(5)\n",
        "print(tensor)"
      ],
      "metadata": {
        "id": "5q7PuVbATAX4"
      },
      "execution_count": null,
      "outputs": []
    },
    {
      "cell_type": "code",
      "source": [
        "# Bridge with NumPy"
      ],
      "metadata": {
        "id": "tXofaezKTN87"
      },
      "execution_count": null,
      "outputs": []
    },
    {
      "cell_type": "code",
      "source": [
        "# Tensor to NumPy array\n",
        "\n",
        "t = torch.ones(5)\n",
        "print(f\"t: {t}\")\n",
        "\n",
        "n = t.numpy()\n",
        "print(f\"n: {n}\")"
      ],
      "metadata": {
        "id": "BvHmhIw3TP46"
      },
      "execution_count": null,
      "outputs": []
    },
    {
      "cell_type": "code",
      "source": [
        "# A change in the tensor reflects in the NumPy array.\n",
        "\n",
        "t.add_(1)\n",
        "print(f\"t: {t}\")\n",
        "print(f\"n: {n}\")"
      ],
      "metadata": {
        "id": "390IpI7VTiba"
      },
      "execution_count": null,
      "outputs": []
    },
    {
      "cell_type": "code",
      "source": [
        "# NumPy array to Tensor\n",
        "\n",
        "n = np.ones(5)\n",
        "t = torch.from_numpy(n)"
      ],
      "metadata": {
        "id": "28KOKbqjTi9w"
      },
      "execution_count": null,
      "outputs": []
    }
  ]
}